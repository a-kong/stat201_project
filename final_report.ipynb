{
 "cells": [
  {
   "cell_type": "markdown",
   "metadata": {},
   "source": [
    "# Does Geographical Location Affect Cabernet Sauvignon Wine Ratings?"
   ]
  },
  {
   "cell_type": "markdown",
   "metadata": {},
   "source": [
    "# Introduction"
   ]
  },
  {
   "cell_type": "markdown",
   "metadata": {},
   "source": [
    "## OUTLINE\n",
    "\n",
    "Begin by providing some relevant background information on the topic so that someone unfamiliar with it will be prepared to understand the rest of your proposal.\n",
    "\n",
    "Clearly state the question you will try to answer with your project. Your question should involve one random variable of interest, spread across two or more categories that are interesting to compare. For example, you could consider the annual maxima river flow at two different locations along a river, or perhaps gender diversity at different universities. Of the response variable, identify one location parameter (mean, median, quantile, etc.) and one scale parameter (standard deviation, inter-quartile range, etc.) that would be useful in answering your question. Justify your choices.\n",
    "\n",
    "Identify and describe the dataset that will be used to answer the question. Remember, this dataset is allowed to contain more variables than you need – feel free to drop them!\n",
    "\n",
    "Also, be sure to frame your question/objectives in terms of what is already known in the literature. Be sure to include at least two scientific publications that can help frame your study (you will need to include these in the References section).\n",
    "\n",
    "**ADDED:** incorporate feedback and change things based on increased understanding of project\n",
    "\n",
    "---"
   ]
  },
  {
   "cell_type": "markdown",
   "metadata": {},
   "source": [
    "Grown in nearly every major wine producing country, Cabernet Sauvignon is one of the world’s most widely recognized red wine grape varieties (Muñoz, Flavio, et al., 2021). From Australia’s Hunter Valley to Canada’s British Columbia to Lebanon’s Beqaa Valley, these diverse climates accentuate different flavour profiles of the Cabernet Sauvignon grape in wine.\n",
    "\n",
    "For example, in cooler climates, Cabernet Sauvignon wines have blackcurrant notes that can be accompanied by green bell pepper notes, mint and cedar which will all become more pronounced as the wine ages. While in more moderate climates, the black currant notes are often seen with black cherry and black olive notes; and in very hot climates, the currant flavors can veer towards the over-ripe and \"jammy\" side.\n",
    "\n",
    "Therefore, we can see that location plays an important role in a wine’s quality. Better known by the French word, terroir is composed of three characteristics, soil, climate, and cultivar, which dictate wine quality (Lock, Peter, et al., 2019). These characteristics yield a multitude of chemical and sensory personalities; and, more notably, can significantly affect the quality of Cabernet Sauvignon wines (Muñoz, Flavio, et al., 2021).\n",
    "\n",
    "Understanding a grape’s personality is fundamental, and knowing if the geographical location in which grapes are grown can affect sommeliers’ blind tasting is one of the essences of appreciating wine. We would like to explore how the appellations determine which grapes excel in wine ratings. This leads to the question: how does growing Cabernet Sauvignon grapes in Napa Valley and Columbia Valley affect its wine ratings? We’ll focus on the data scraped from WineEnthusiast during the week of June 15th, 2017 to study the influence of these two regions towards wine ratings. Additionally, we will be examining and comparing at the mean ratings and their standard deviations for each region to determine the average rating and its variability. **(EXPLAIN WHY WE CHOSE THESE SCALE PARAMETERS).*** \n"
   ]
  },
  {
   "cell_type": "markdown",
   "metadata": {},
   "source": [
    "# Methods and Results"
   ]
  },
  {
   "cell_type": "markdown",
   "metadata": {},
   "source": [
    "## OUTLINE\n",
    "\n",
    "Here is where you’ll include your work from the “Preliminary Results” in your proposal, along with the additional results you planned to conduct, as indicated in the “Methods: Plan” section of your proposal. Be sure to incorporate feedback from the teaching team and your peers (as relevant), or make any improvements based on your own improved understanding of the project (now that more time has passed since the proposal).\n",
    "\n",
    "Specifically, in addition to what is requested in the “Preliminary Results” section of the proposal, we are looking for the following components:\n",
    "\n",
    "- Describe in written English the methods you used to perform your analysis from beginning to end that narrates the code the does the analysis.\n",
    "- Make sure to interpret the results you obtain. It’s not enough to just state what a 90% confidence interval is, for example.\n",
    "- Ensure your tables and/or figures are labeled with a figure/table number.\n",
    "- Do you think one of bootstrapping or asymptotics is more appropriate than the other? Why or why not? Explain why you think both methods gave you similar/different results, and whether you think one is more trustworthy than the other.\n",
    "\n"
   ]
  },
  {
   "cell_type": "code",
   "execution_count": 20,
   "metadata": {},
   "outputs": [
    {
     "name": "stderr",
     "output_type": "stream",
     "text": [
      "Warning message:\n",
      "“package ‘broom’ was built under R version 4.0.2”\n"
     ]
    }
   ],
   "source": [
    "library(tidyverse)\n",
    "library(dplyr)\n",
    "library(digest)\n",
    "library(infer)\n",
    "library(repr)\n",
    "library(broom)"
   ]
  },
  {
   "cell_type": "markdown",
   "metadata": {},
   "source": [
    "We first load the downloaded data set from Kaggle's open data set. Then, we tidy the data set by filtering to see only wines made from the Cabernet Sauvignon grape in Napa Valley or Columbia Valley, and selecting the columns relevant to our study: the region the grape was grown in (ie: Napa Valley or Columbia Valley) and the rating/points the wine received on a scale of 0-100."
   ]
  },
  {
   "cell_type": "code",
   "execution_count": 2,
   "metadata": {
    "scrolled": false
   },
   "outputs": [
    {
     "name": "stderr",
     "output_type": "stream",
     "text": [
      "Warning message:\n",
      "“Missing column names filled in: 'X1' [1]”\n",
      "Parsed with column specification:\n",
      "cols(\n",
      "  X1 = \u001b[32mcol_double()\u001b[39m,\n",
      "  country = \u001b[31mcol_character()\u001b[39m,\n",
      "  description = \u001b[31mcol_character()\u001b[39m,\n",
      "  designation = \u001b[31mcol_character()\u001b[39m,\n",
      "  points = \u001b[32mcol_double()\u001b[39m,\n",
      "  price = \u001b[32mcol_double()\u001b[39m,\n",
      "  province = \u001b[31mcol_character()\u001b[39m,\n",
      "  region_1 = \u001b[31mcol_character()\u001b[39m,\n",
      "  region_2 = \u001b[31mcol_character()\u001b[39m,\n",
      "  variety = \u001b[31mcol_character()\u001b[39m,\n",
      "  winery = \u001b[31mcol_character()\u001b[39m\n",
      ")\n",
      "\n"
     ]
    },
    {
     "data": {
      "text/html": [
       "'Table 1: The Data Set'"
      ],
      "text/latex": [
       "'Table 1: The Data Set'"
      ],
      "text/markdown": [
       "'Table 1: The Data Set'"
      ],
      "text/plain": [
       "[1] \"Table 1: The Data Set\""
      ]
     },
     "metadata": {},
     "output_type": "display_data"
    },
    {
     "data": {
      "text/html": [
       "<table>\n",
       "<caption>A tibble: 6 × 2</caption>\n",
       "<thead>\n",
       "\t<tr><th scope=col>points</th><th scope=col>region</th></tr>\n",
       "\t<tr><th scope=col>&lt;dbl&gt;</th><th scope=col>&lt;chr&gt;</th></tr>\n",
       "</thead>\n",
       "<tbody>\n",
       "\t<tr><td>96</td><td>Napa Valley</td></tr>\n",
       "\t<tr><td>91</td><td>Napa Valley</td></tr>\n",
       "\t<tr><td>91</td><td>Napa Valley</td></tr>\n",
       "\t<tr><td>91</td><td>Napa Valley</td></tr>\n",
       "\t<tr><td>86</td><td>Napa Valley</td></tr>\n",
       "\t<tr><td>90</td><td>Napa Valley</td></tr>\n",
       "</tbody>\n",
       "</table>\n"
      ],
      "text/latex": [
       "A tibble: 6 × 2\n",
       "\\begin{tabular}{ll}\n",
       " points & region\\\\\n",
       " <dbl> & <chr>\\\\\n",
       "\\hline\n",
       "\t 96 & Napa Valley\\\\\n",
       "\t 91 & Napa Valley\\\\\n",
       "\t 91 & Napa Valley\\\\\n",
       "\t 91 & Napa Valley\\\\\n",
       "\t 86 & Napa Valley\\\\\n",
       "\t 90 & Napa Valley\\\\\n",
       "\\end{tabular}\n"
      ],
      "text/markdown": [
       "\n",
       "A tibble: 6 × 2\n",
       "\n",
       "| points &lt;dbl&gt; | region &lt;chr&gt; |\n",
       "|---|---|\n",
       "| 96 | Napa Valley |\n",
       "| 91 | Napa Valley |\n",
       "| 91 | Napa Valley |\n",
       "| 91 | Napa Valley |\n",
       "| 86 | Napa Valley |\n",
       "| 90 | Napa Valley |\n",
       "\n"
      ],
      "text/plain": [
       "  points region     \n",
       "1 96     Napa Valley\n",
       "2 91     Napa Valley\n",
       "3 91     Napa Valley\n",
       "4 91     Napa Valley\n",
       "5 86     Napa Valley\n",
       "6 90     Napa Valley"
      ]
     },
     "metadata": {},
     "output_type": "display_data"
    }
   ],
   "source": [
    "cs_wine <- read_csv(\"winemag-data_first150k.csv\") %>%\n",
    "            rename(region = region_1) %>%\n",
    "            filter(variety == \"Cabernet Sauvignon\", region == \"Napa Valley\" | region == \"Columbia Valley (WA)\") %>%\n",
    "            select(points, region)\n",
    "\n",
    "\"Table 1: The Data Set\"\n",
    "head(cs_wine)"
   ]
  },
  {
   "cell_type": "markdown",
   "metadata": {},
   "source": [
    "Now, we calculate the mean for both regions, and plot the distributions, with a line indicating their respective sample mean, for easier visualization of the distribution of ratings. The sample size for each region is included, for reference."
   ]
  },
  {
   "cell_type": "code",
   "execution_count": 3,
   "metadata": {
    "scrolled": true
   },
   "outputs": [
    {
     "name": "stderr",
     "output_type": "stream",
     "text": [
      "`summarise()` ungrouping output (override with `.groups` argument)\n",
      "\n"
     ]
    },
    {
     "data": {
      "text/html": [
       "'Table 2: Mean and Sample Size for Each Region'"
      ],
      "text/latex": [
       "'Table 2: Mean and Sample Size for Each Region'"
      ],
      "text/markdown": [
       "'Table 2: Mean and Sample Size for Each Region'"
      ],
      "text/plain": [
       "[1] \"Table 2: Mean and Sample Size for Each Region\""
      ]
     },
     "metadata": {},
     "output_type": "display_data"
    },
    {
     "data": {
      "text/html": [
       "<table>\n",
       "<caption>A tibble: 2 × 3</caption>\n",
       "<thead>\n",
       "\t<tr><th scope=col>region</th><th scope=col>sample_mean</th><th scope=col>n</th></tr>\n",
       "\t<tr><th scope=col>&lt;chr&gt;</th><th scope=col>&lt;dbl&gt;</th><th scope=col>&lt;int&gt;</th></tr>\n",
       "</thead>\n",
       "<tbody>\n",
       "\t<tr><td>Columbia Valley (WA)</td><td>89.22585</td><td> 766</td></tr>\n",
       "\t<tr><td>Napa Valley         </td><td>89.26661</td><td>2513</td></tr>\n",
       "</tbody>\n",
       "</table>\n"
      ],
      "text/latex": [
       "A tibble: 2 × 3\n",
       "\\begin{tabular}{lll}\n",
       " region & sample\\_mean & n\\\\\n",
       " <chr> & <dbl> & <int>\\\\\n",
       "\\hline\n",
       "\t Columbia Valley (WA) & 89.22585 &  766\\\\\n",
       "\t Napa Valley          & 89.26661 & 2513\\\\\n",
       "\\end{tabular}\n"
      ],
      "text/markdown": [
       "\n",
       "A tibble: 2 × 3\n",
       "\n",
       "| region &lt;chr&gt; | sample_mean &lt;dbl&gt; | n &lt;int&gt; |\n",
       "|---|---|---|\n",
       "| Columbia Valley (WA) | 89.22585 |  766 |\n",
       "| Napa Valley          | 89.26661 | 2513 |\n",
       "\n"
      ],
      "text/plain": [
       "  region               sample_mean n   \n",
       "1 Columbia Valley (WA) 89.22585     766\n",
       "2 Napa Valley          89.26661    2513"
      ]
     },
     "metadata": {},
     "output_type": "display_data"
    }
   ],
   "source": [
    "mean_dist <- cs_wine %>%\n",
    "                group_by(region) %>%\n",
    "                summarize(sample_mean = mean(points),\n",
    "                          n = n())\n",
    "\n",
    "\"Table 2: Mean and Sample Size for Each Region\"\n",
    "head(mean_dist)"
   ]
  },
  {
   "cell_type": "code",
   "execution_count": 4,
   "metadata": {},
   "outputs": [
    {
     "data": {
      "image/png": "[encoded data removed]",
      "text/plain": [
       "plot without title"
      ]
     },
     "metadata": {
      "image/png": {
       "height": 420,
       "width": 420
      }
     },
     "output_type": "display_data"
    }
   ],
   "source": [
    "nv_plot <- cs_wine %>%\n",
    "        filter(region == \"Napa Valley\") %>%\n",
    "        ggplot() +\n",
    "        geom_histogram(aes(x = points), colour = \"white\", bins = 20) +\n",
    "        geom_vline(aes(xintercept = mean_dist$sample_mean[2]), color = \"orange\", linetype = \"dashed\", size = 1) +\n",
    "        labs(title = \"Figure 1: Distribution of Napa Valley Ratings\") +\n",
    "        theme(text = element_text(size = 15))\n",
    "        \n",
    "nv_plot"
   ]
  },
  {
   "cell_type": "code",
   "execution_count": 5,
   "metadata": {},
   "outputs": [
    {
     "data": {
      "image/png": "[encoded data removed]",
      "text/plain": [
       "plot without title"
      ]
     },
     "metadata": {
      "image/png": {
       "height": 420,
       "width": 420
      }
     },
     "output_type": "display_data"
    }
   ],
   "source": [
    "cv_plot <- cs_wine %>%\n",
    "        filter(region == \"Columbia Valley (WA)\") %>%\n",
    "        ggplot() +\n",
    "        geom_histogram(aes(x = points), colour = \"white\", bins = 20) +\n",
    "        geom_vline(aes(xintercept = mean_dist$sample_mean[1]), color = \"green\", linetype = \"dashed\", size = 1) +\n",
    "        labs(title = \"Figure 2: Distribution of Columbia Valley Ratings\") +\n",
    "        theme(text = element_text(size = 15))\n",
    "cv_plot"
   ]
  },
  {
   "cell_type": "markdown",
   "metadata": {},
   "source": [
    "## Hypothesis Testing"
   ]
  },
  {
   "cell_type": "markdown",
   "metadata": {},
   "source": [
    "To determine whether or not Cabernet Sauvignon grapes grown in Napa Valley and Columbia Valley affect wine ratings, we will conduct a hypothesis test. Namely, the test's null hypothesis will be $H_0: \\mu_1 = \\mu_2$, where $\\mu_1$ is the mean of the points received for grapes grown in Napa Valley and $\\mu_2$ is that of Columbia Valley. And our alternative hypothesis is $H_1: \\mu_1 \\neq \\mu_2$. \n",
    "\n",
    "Using a 5% significance level (ie: 95% confidence level), we will be employing two different methods of hypothesis testing: bootstrapping and using the CLT. \n",
    "\n",
    "First, we calculate the observed test statistic, the difference in means, which will be used to calculate the $p$-value in both the bootstrap and CLT distributions. "
   ]
  },
  {
   "cell_type": "code",
   "execution_count": 6,
   "metadata": {},
   "outputs": [
    {
     "data": {
      "text/html": [
       "'Table 3: Observed Test Statistic - Difference in Means'"
      ],
      "text/latex": [
       "'Table 3: Observed Test Statistic - Difference in Means'"
      ],
      "text/markdown": [
       "'Table 3: Observed Test Statistic - Difference in Means'"
      ],
      "text/plain": [
       "[1] \"Table 3: Observed Test Statistic - Difference in Means\""
      ]
     },
     "metadata": {},
     "output_type": "display_data"
    },
    {
     "data": {
      "text/html": [
       "<table>\n",
       "<caption>A tibble: 1 × 1</caption>\n",
       "<thead>\n",
       "\t<tr><th scope=col>stat</th></tr>\n",
       "\t<tr><th scope=col>&lt;dbl&gt;</th></tr>\n",
       "</thead>\n",
       "<tbody>\n",
       "\t<tr><td>0.04076505</td></tr>\n",
       "</tbody>\n",
       "</table>\n"
      ],
      "text/latex": [
       "A tibble: 1 × 1\n",
       "\\begin{tabular}{l}\n",
       " stat\\\\\n",
       " <dbl>\\\\\n",
       "\\hline\n",
       "\t 0.04076505\\\\\n",
       "\\end{tabular}\n"
      ],
      "text/markdown": [
       "\n",
       "A tibble: 1 × 1\n",
       "\n",
       "| stat &lt;dbl&gt; |\n",
       "|---|\n",
       "| 0.04076505 |\n",
       "\n"
      ],
      "text/plain": [
       "  stat      \n",
       "1 0.04076505"
      ]
     },
     "metadata": {},
     "output_type": "display_data"
    }
   ],
   "source": [
    "obs_diff <- cs_wine %>%\n",
    "        specify(formula = points ~ region) %>%\n",
    "        calculate(stat = \"diff in means\", order = c(\"Napa Valley\", \"Columbia Valley (WA)\")) \n",
    "\n",
    "\"Table 3: Observed Test Statistic - Difference in Means\"\n",
    "obs_diff"
   ]
  },
  {
   "cell_type": "markdown",
   "metadata": {},
   "source": [
    "### Bootstrapped Distribution"
   ]
  },
  {
   "cell_type": "markdown",
   "metadata": {},
   "source": [
    "In the bootstrapped distribution, we generate 1000 samples from the null distribution and calculate each samples' difference in means. From that, we can also calculate the confidence interval and $p$-value. And visually, we can display the distribution with the shaded confidence interval and the $p$-value with the shaded tails."
   ]
  },
  {
   "cell_type": "code",
   "execution_count": 13,
   "metadata": {
    "scrolled": false
   },
   "outputs": [
    {
     "data": {
      "text/html": [
       "<table>\n",
       "<caption>A tibble: 1 × 1</caption>\n",
       "<thead>\n",
       "\t<tr><th scope=col>p_value</th></tr>\n",
       "\t<tr><th scope=col>&lt;dbl&gt;</th></tr>\n",
       "</thead>\n",
       "<tbody>\n",
       "\t<tr><td>0.762</td></tr>\n",
       "</tbody>\n",
       "</table>\n"
      ],
      "text/latex": [
       "A tibble: 1 × 1\n",
       "\\begin{tabular}{l}\n",
       " p\\_value\\\\\n",
       " <dbl>\\\\\n",
       "\\hline\n",
       "\t 0.762\\\\\n",
       "\\end{tabular}\n"
      ],
      "text/markdown": [
       "\n",
       "A tibble: 1 × 1\n",
       "\n",
       "| p_value &lt;dbl&gt; |\n",
       "|---|\n",
       "| 0.762 |\n",
       "\n"
      ],
      "text/plain": [
       "  p_value\n",
       "1 0.762  "
      ]
     },
     "metadata": {},
     "output_type": "display_data"
    },
    {
     "data": {
      "text/html": [
       "<table>\n",
       "<caption>A tibble: 1 × 2</caption>\n",
       "<thead>\n",
       "\t<tr><th scope=col>lower_ci</th><th scope=col>upper_ci</th></tr>\n",
       "\t<tr><th scope=col>&lt;dbl&gt;</th><th scope=col>&lt;dbl&gt;</th></tr>\n",
       "</thead>\n",
       "<tbody>\n",
       "\t<tr><td>-0.2727057</td><td>0.2741327</td></tr>\n",
       "</tbody>\n",
       "</table>\n"
      ],
      "text/latex": [
       "A tibble: 1 × 2\n",
       "\\begin{tabular}{ll}\n",
       " lower\\_ci & upper\\_ci\\\\\n",
       " <dbl> & <dbl>\\\\\n",
       "\\hline\n",
       "\t -0.2727057 & 0.2741327\\\\\n",
       "\\end{tabular}\n"
      ],
      "text/markdown": [
       "\n",
       "A tibble: 1 × 2\n",
       "\n",
       "| lower_ci &lt;dbl&gt; | upper_ci &lt;dbl&gt; |\n",
       "|---|---|\n",
       "| -0.2727057 | 0.2741327 |\n",
       "\n"
      ],
      "text/plain": [
       "  lower_ci   upper_ci \n",
       "1 -0.2727057 0.2741327"
      ]
     },
     "metadata": {},
     "output_type": "display_data"
    },
    {
     "data": {
      "image/png": "[encoded data removed]",
      "text/plain": [
       "plot without title"
      ]
     },
     "metadata": {
      "image/png": {
       "height": 420,
       "width": 420
      }
     },
     "output_type": "display_data"
    },
    {
     "data": {
      "image/png": "[encoded data removed]",
      "text/plain": [
       "plot without title"
      ]
     },
     "metadata": {
      "image/png": {
       "height": 420,
       "width": 420
      }
     },
     "output_type": "display_data"
    }
   ],
   "source": [
    "set.seed(2021)\n",
    "\n",
    "bootstrap_dist <- cs_wine %>%\n",
    "                specify(formula = points ~ region) %>%\n",
    "        hypothesize(null = \"independence\") %>%\n",
    "                generate(reps = 1000, type = \"permute\") %>%\n",
    "                calculate(stat = \"diff in means\", order = c(\"Napa Valley\", \"Columbia Valley (WA)\"))\n",
    "\n",
    "boot_p_value <- bootstrap_dist %>%\n",
    "        get_p_value(obs_stat = obs_diff, direction = \"both\")\n",
    "boot_p_value\n",
    "\n",
    "boot_ci <- bootstrap_dist %>%\n",
    "    get_confidence_interval(level = 0.95, type = \"percentile\")\n",
    "boot_ci\n",
    "\n",
    "visualize(bootstrap_dist) + \n",
    "    shade_p_value(obs_stat = obs_diff, direction = \"both\")\n",
    "\n",
    "visualize(bootstrap_dist) + \n",
    "    shade_confidence_interval(endpoints = boot_ci)"
   ]
  },
  {
   "cell_type": "markdown",
   "metadata": {},
   "source": [
    "### CLT Distribution"
   ]
  },
  {
   "cell_type": "code",
   "execution_count": 24,
   "metadata": {
    "scrolled": true
   },
   "outputs": [],
   "source": [
    "napa <- cs_wine %>%\n",
    "        filter(region == \"Napa Valley\") %>%\n",
    "        pull(points)\n",
    "\n",
    "columbia <- cs_wine %>%\n",
    "            filter(region == \"Columbia Valley (WA)\") %>%\n",
    "            pull(points)"
   ]
  },
  {
   "cell_type": "code",
   "execution_count": 23,
   "metadata": {},
   "outputs": [
    {
     "data": {
      "text/html": [
       "<table>\n",
       "<caption>A tibble: 1 × 10</caption>\n",
       "<thead>\n",
       "\t<tr><th scope=col>estimate</th><th scope=col>estimate1</th><th scope=col>estimate2</th><th scope=col>statistic</th><th scope=col>p.value</th><th scope=col>parameter</th><th scope=col>conf.low</th><th scope=col>conf.high</th><th scope=col>method</th><th scope=col>alternative</th></tr>\n",
       "\t<tr><th scope=col>&lt;dbl&gt;</th><th scope=col>&lt;dbl&gt;</th><th scope=col>&lt;dbl&gt;</th><th scope=col>&lt;dbl&gt;</th><th scope=col>&lt;dbl&gt;</th><th scope=col>&lt;dbl&gt;</th><th scope=col>&lt;dbl&gt;</th><th scope=col>&lt;dbl&gt;</th><th scope=col>&lt;chr&gt;</th><th scope=col>&lt;chr&gt;</th></tr>\n",
       "</thead>\n",
       "<tbody>\n",
       "\t<tr><td>0.04076505</td><td>89.26661</td><td>89.22585</td><td>0.308029</td><td>0.7581061</td><td>1398.418</td><td>-0.2188444</td><td>0.3003745</td><td>Welch Two Sample t-test</td><td>two.sided</td></tr>\n",
       "</tbody>\n",
       "</table>\n"
      ],
      "text/latex": [
       "A tibble: 1 × 10\n",
       "\\begin{tabular}{llllllllll}\n",
       " estimate & estimate1 & estimate2 & statistic & p.value & parameter & conf.low & conf.high & method & alternative\\\\\n",
       " <dbl> & <dbl> & <dbl> & <dbl> & <dbl> & <dbl> & <dbl> & <dbl> & <chr> & <chr>\\\\\n",
       "\\hline\n",
       "\t 0.04076505 & 89.26661 & 89.22585 & 0.308029 & 0.7581061 & 1398.418 & -0.2188444 & 0.3003745 & Welch Two Sample t-test & two.sided\\\\\n",
       "\\end{tabular}\n"
      ],
      "text/markdown": [
       "\n",
       "A tibble: 1 × 10\n",
       "\n",
       "| estimate &lt;dbl&gt; | estimate1 &lt;dbl&gt; | estimate2 &lt;dbl&gt; | statistic &lt;dbl&gt; | p.value &lt;dbl&gt; | parameter &lt;dbl&gt; | conf.low &lt;dbl&gt; | conf.high &lt;dbl&gt; | method &lt;chr&gt; | alternative &lt;chr&gt; |\n",
       "|---|---|---|---|---|---|---|---|---|---|\n",
       "| 0.04076505 | 89.26661 | 89.22585 | 0.308029 | 0.7581061 | 1398.418 | -0.2188444 | 0.3003745 | Welch Two Sample t-test | two.sided |\n",
       "\n"
      ],
      "text/plain": [
       "  estimate   estimate1 estimate2 statistic p.value   parameter conf.low  \n",
       "1 0.04076505 89.26661  89.22585  0.308029  0.7581061 1398.418  -0.2188444\n",
       "  conf.high method                  alternative\n",
       "1 0.3003745 Welch Two Sample t-test two.sided  "
      ]
     },
     "metadata": {},
     "output_type": "display_data"
    }
   ],
   "source": [
    "t_test <- tidy(t.test(x = napa, \n",
    "                      y = columbia\n",
    "                      ))\n",
    "\n",
    "t_test"
   ]
  },
  {
   "cell_type": "markdown",
   "metadata": {},
   "source": [
    "This report takes advantage of the large data set we're using; and it remains large after filtering it to focus on one specific grape. The large sample size helps us know that there is enough data so that results are less likely to be biased towards one direction, and the large sample size helps with creating a narrower confidence interval, which we will later construct. \n",
    "\n",
    "Although the estimates in Table 4 and Figures 2 and 3 provide a numerical and pictorial understanding of the mean and standard deviation of each region, it is not enough to see whether or not the region affects the rating as they merely describe the spread of the data. \n",
    "\n",
    "To bridge the gap, we will conduct a hypothesis test to determine whether or not Cabernet Sauvignon grapes grown in the 2 regions, Napa Valley and Columbia Valley, affect the wine ratings. Namely, our null hypothesis will be $H_0 = \\tilde{x}_1 = \\tilde{x}_2$, where $\\tilde{x}_1$ is the median of the points of the grape grown in Napa Valley and $\\tilde{x}_2$ is that of Columbia Valley. And our alternative hypothesis is $H_1 = \\tilde{x}_1 \\neq \\tilde{x}_2$. Additionally, we will be calculating 90% confidence intervals to compare our bootstrapped and CLT distributions. \n",
    "\n",
    "We expect to find out whether or not growing Cabernet Sauvignon grapes in different regions will affect its wine ratings; and if it does affect the rating, how much it affects it.\n",
    "\n",
    "The impacts of the findings could allow companies to make decisions on where to grow their grapes for wine, as well as allowing consumers to better understand how growing location affects the flavour profile of wines.\n",
    "\n",
    "Future questions could include looking into how wineries can increase their profit by adjusting their crops to fit and cater to the demand. "
   ]
  },
  {
   "cell_type": "markdown",
   "metadata": {},
   "source": [
    "# Discussion"
   ]
  },
  {
   "cell_type": "markdown",
   "metadata": {},
   "source": [
    "## OUTLINE\n",
    "\n",
    "In this section, you’ll interpret the results you obtained in the previous section with respect to the main question/goal of your project.\n",
    "\n",
    "- Summarize what you found, and the implications/impact of your findings.\n",
    "\n",
    "- If relevant, discuss whether your results were what you expected to find.\n",
    "\n",
    "- Discuss future questions/research this study could lead to.\n"
   ]
  },
  {
   "cell_type": "markdown",
   "metadata": {},
   "source": [
    "# References"
   ]
  },
  {
   "cell_type": "markdown",
   "metadata": {},
   "source": [
    "Muñoz, Flavio, et al. “Phenolic Characterization of Cabernet Sauvignon Wines From Different Geographical   Indications of Mendoza, Argentina: Effects of Plant Material and Environment.” _Frontiers in Sustainable Food Systems_, vol. 5, 2021, doi:10.3389/fsufs.2021.700642. Accessed 1 Aug. 2021.\n",
    "\n",
    "Lock, Peter, et al., \"Wineries and wine quality: The influence of location and archetype in the Hunter Valley region in Australia.\" _Wine Economics and Policy_, vol. 8, issue 2, 2019, 180-190, doi.org/10.1016/j.wep.2019.10.002. Accessed 1 Aug. 2021.\n",
    "\n",
    "Thoutt, Zack. \"Wine Reviews\" (Version 4), _Kaggle_, 27 Nov. 2017. https://www.kaggle.com/zynicide/wine-reviews. Accessed 1 Aug. 2021."
   ]
  }
 ],
 "metadata": {
  "kernelspec": {
   "display_name": "R",
   "language": "R",
   "name": "ir"
  },
  "language_info": {
   "codemirror_mode": "r",
   "file_extension": ".r",
   "mimetype": "text/x-r-source",
   "name": "R",
   "pygments_lexer": "r",
   "version": "4.0.0"
  }
 },
 "nbformat": 4,
 "nbformat_minor": 5
}
