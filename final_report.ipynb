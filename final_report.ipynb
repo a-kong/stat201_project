{
 "cells": [
  {
   "cell_type": "markdown",
   "metadata": {},
   "source": [
    "# Does Geographical Location Affect Cabernet Sauvignon Wine Ratings?"
   ]
  },
  {
   "cell_type": "markdown",
   "metadata": {},
   "source": [
    "# Introduction"
   ]
  },
  {
   "cell_type": "markdown",
   "metadata": {},
   "source": [
    "Grown in nearly every major wine producing country, Cabernet Sauvignon is one of the world’s most widely recognized red wine grape varieties (Muñoz, Flavio, et al., 2021). From Australia’s Hunter Valley to Canada’s British Columbia to Lebanon’s Beqaa Valley, these diverse climates accentuate different flavour profiles of the Cabernet Sauvignon grape in wine.\n",
    "\n",
    "For example, in cooler climates, Cabernet Sauvignon wines have blackcurrant notes that can be accompanied by green bell pepper notes, mint and cedar which will all become more pronounced as the wine ages. While in more moderate climates, the black currant notes are often seen with black cherry and black olive notes; and in very hot climates, the currant flavors can veer towards the over-ripe and \"jammy\" side.\n",
    "\n",
    "Therefore, we can see that location plays an important role in a wine’s quality. Better known by the French word, terroir is composed of three characteristics, soil, climate, and cultivar, which dictate wine quality (Lock, Peter, et al., 2019). These characteristics yield a multitude of chemical and sensory personalities; and, more notably, can significantly affect the quality of Cabernet Sauvignon wines (Muñoz, Flavio, et al., 2021).\n",
    "\n",
    "Understanding a grape’s personality is fundamental, and knowing if the geographical location in which grapes are grown can affect sommeliers’ blind tasting is one of the essences of appreciating wine. We would like to explore how the appellations determine which grapes excel in wine ratings. This leads to the question: how does growing Cabernet Sauvignon grapes in Napa Valley and Columbia Valley affect its wine ratings? We’ll focus on the data scraped from WineEnthusiast during the week of June 15th, 2017 to study the influence of these two regions towards wine ratings. Additionally, we will be examining and comparing at the mean ratings and their standard deviations for each region to determine the average rating and its variability. **(EXPLAIN WHY WE CHOSE THESE SCALE PARAMETERS).*** \n"
   ]
  },
  {
   "cell_type": "markdown",
   "metadata": {},
   "source": [
    "# Preliminary Results"
   ]
  },
  {
   "cell_type": "markdown",
   "metadata": {},
   "source": [
    "We first load the downloaded data set from Kaggle's open data set. Then, we filter to see only wines made from the Cabernet Sauvignon grape, and select the columns relevant to our study: the region the grape was grown in and the rating/points the wine received on a scale of 0-100."
   ]
  },
  {
   "cell_type": "code",
   "execution_count": 1,
   "metadata": {},
   "outputs": [
    {
     "name": "stderr",
     "output_type": "stream",
     "text": [
      "── \u001b[1mAttaching packages\u001b[22m ─────────────────────────────────────── tidyverse 1.3.0 ──\n",
      "\n",
      "\u001b[32m✔\u001b[39m \u001b[34mggplot2\u001b[39m 3.3.2     \u001b[32m✔\u001b[39m \u001b[34mpurrr  \u001b[39m 0.3.4\n",
      "\u001b[32m✔\u001b[39m \u001b[34mtibble \u001b[39m 3.0.3     \u001b[32m✔\u001b[39m \u001b[34mdplyr  \u001b[39m 1.0.2\n",
      "\u001b[32m✔\u001b[39m \u001b[34mtidyr  \u001b[39m 1.1.1     \u001b[32m✔\u001b[39m \u001b[34mstringr\u001b[39m 1.4.0\n",
      "\u001b[32m✔\u001b[39m \u001b[34mreadr  \u001b[39m 1.3.1     \u001b[32m✔\u001b[39m \u001b[34mforcats\u001b[39m 0.5.0\n",
      "\n",
      "Warning message:\n",
      "“package ‘ggplot2’ was built under R version 4.0.1”\n",
      "Warning message:\n",
      "“package ‘tibble’ was built under R version 4.0.2”\n",
      "Warning message:\n",
      "“package ‘tidyr’ was built under R version 4.0.2”\n",
      "Warning message:\n",
      "“package ‘dplyr’ was built under R version 4.0.2”\n",
      "── \u001b[1mConflicts\u001b[22m ────────────────────────────────────────── tidyverse_conflicts() ──\n",
      "\u001b[31m✖\u001b[39m \u001b[34mdplyr\u001b[39m::\u001b[32mfilter()\u001b[39m masks \u001b[34mstats\u001b[39m::filter()\n",
      "\u001b[31m✖\u001b[39m \u001b[34mdplyr\u001b[39m::\u001b[32mlag()\u001b[39m    masks \u001b[34mstats\u001b[39m::lag()\n",
      "\n",
      "Warning message:\n",
      "“package ‘infer’ was built under R version 4.0.2”\n"
     ]
    }
   ],
   "source": [
    "library(tidyverse)\n",
    "library(dplyr)\n",
    "library(digest)\n",
    "library(infer)\n",
    "library(repr)"
   ]
  },
  {
   "cell_type": "code",
   "execution_count": 2,
   "metadata": {
    "scrolled": false
   },
   "outputs": [
    {
     "name": "stderr",
     "output_type": "stream",
     "text": [
      "Warning message:\n",
      "“Missing column names filled in: 'X1' [1]”\n",
      "Parsed with column specification:\n",
      "cols(\n",
      "  X1 = \u001b[32mcol_double()\u001b[39m,\n",
      "  country = \u001b[31mcol_character()\u001b[39m,\n",
      "  description = \u001b[31mcol_character()\u001b[39m,\n",
      "  designation = \u001b[31mcol_character()\u001b[39m,\n",
      "  points = \u001b[32mcol_double()\u001b[39m,\n",
      "  price = \u001b[32mcol_double()\u001b[39m,\n",
      "  province = \u001b[31mcol_character()\u001b[39m,\n",
      "  region_1 = \u001b[31mcol_character()\u001b[39m,\n",
      "  region_2 = \u001b[31mcol_character()\u001b[39m,\n",
      "  variety = \u001b[31mcol_character()\u001b[39m,\n",
      "  winery = \u001b[31mcol_character()\u001b[39m\n",
      ")\n",
      "\n"
     ]
    },
    {
     "data": {
      "text/html": [
       "'Table 1: The Data Set'"
      ],
      "text/latex": [
       "'Table 1: The Data Set'"
      ],
      "text/markdown": [
       "'Table 1: The Data Set'"
      ],
      "text/plain": [
       "[1] \"Table 1: The Data Set\""
      ]
     },
     "metadata": {},
     "output_type": "display_data"
    },
    {
     "data": {
      "text/html": [
       "<table>\n",
       "<caption>A tibble: 6 × 2</caption>\n",
       "<thead>\n",
       "\t<tr><th scope=col>points</th><th scope=col>region_1</th></tr>\n",
       "\t<tr><th scope=col>&lt;dbl&gt;</th><th scope=col>&lt;chr&gt;</th></tr>\n",
       "</thead>\n",
       "<tbody>\n",
       "\t<tr><td>96</td><td>Napa Valley              </td></tr>\n",
       "\t<tr><td>95</td><td>Diamond Mountain District</td></tr>\n",
       "\t<tr><td>90</td><td>Mount Veeder             </td></tr>\n",
       "\t<tr><td>90</td><td>Red Mountain             </td></tr>\n",
       "\t<tr><td>90</td><td>Red Mountain             </td></tr>\n",
       "\t<tr><td>91</td><td>Napa Valley              </td></tr>\n",
       "</tbody>\n",
       "</table>\n"
      ],
      "text/latex": [
       "A tibble: 6 × 2\n",
       "\\begin{tabular}{ll}\n",
       " points & region\\_1\\\\\n",
       " <dbl> & <chr>\\\\\n",
       "\\hline\n",
       "\t 96 & Napa Valley              \\\\\n",
       "\t 95 & Diamond Mountain District\\\\\n",
       "\t 90 & Mount Veeder             \\\\\n",
       "\t 90 & Red Mountain             \\\\\n",
       "\t 90 & Red Mountain             \\\\\n",
       "\t 91 & Napa Valley              \\\\\n",
       "\\end{tabular}\n"
      ],
      "text/markdown": [
       "\n",
       "A tibble: 6 × 2\n",
       "\n",
       "| points &lt;dbl&gt; | region_1 &lt;chr&gt; |\n",
       "|---|---|\n",
       "| 96 | Napa Valley               |\n",
       "| 95 | Diamond Mountain District |\n",
       "| 90 | Mount Veeder              |\n",
       "| 90 | Red Mountain              |\n",
       "| 90 | Red Mountain              |\n",
       "| 91 | Napa Valley               |\n",
       "\n"
      ],
      "text/plain": [
       "  points region_1                 \n",
       "1 96     Napa Valley              \n",
       "2 95     Diamond Mountain District\n",
       "3 90     Mount Veeder             \n",
       "4 90     Red Mountain             \n",
       "5 90     Red Mountain             \n",
       "6 91     Napa Valley              "
      ]
     },
     "metadata": {},
     "output_type": "display_data"
    }
   ],
   "source": [
    "cs_wine <- read_csv(\"winemag-data_first150k.csv\") %>%\n",
    "        filter(variety == \"Cabernet Sauvignon\") %>%\n",
    "        select(points, region_1) \n",
    "\n",
    "\"Table 1: The Data Set\"\n",
    "head(cs_wine)"
   ]
  },
  {
   "cell_type": "code",
   "execution_count": 3,
   "metadata": {
    "scrolled": true
   },
   "outputs": [
    {
     "name": "stderr",
     "output_type": "stream",
     "text": [
      "`summarise()` ungrouping output (override with `.groups` argument)\n",
      "\n"
     ]
    },
    {
     "data": {
      "text/html": [
       "'Table 2: Sample Means for Each Region'"
      ],
      "text/latex": [
       "'Table 2: Sample Means for Each Region'"
      ],
      "text/markdown": [
       "'Table 2: Sample Means for Each Region'"
      ],
      "text/plain": [
       "[1] \"Table 2: Sample Means for Each Region\""
      ]
     },
     "metadata": {},
     "output_type": "display_data"
    },
    {
     "data": {
      "text/html": [
       "<table>\n",
       "<caption>A tibble: 6 × 2</caption>\n",
       "<thead>\n",
       "\t<tr><th scope=col>region_1</th><th scope=col>sample_mean</th></tr>\n",
       "\t<tr><th scope=col>&lt;chr&gt;</th><th scope=col>&lt;dbl&gt;</th></tr>\n",
       "</thead>\n",
       "<tbody>\n",
       "\t<tr><td>Adelaida District</td><td>96.00000</td></tr>\n",
       "\t<tr><td>Adelaide Hills   </td><td>88.80000</td></tr>\n",
       "\t<tr><td>Adelaide Plains  </td><td>85.00000</td></tr>\n",
       "\t<tr><td>Agrelo           </td><td>85.91667</td></tr>\n",
       "\t<tr><td>Alexander Valley </td><td>88.31697</td></tr>\n",
       "\t<tr><td>Alghero          </td><td>90.00000</td></tr>\n",
       "</tbody>\n",
       "</table>\n"
      ],
      "text/latex": [
       "A tibble: 6 × 2\n",
       "\\begin{tabular}{ll}\n",
       " region\\_1 & sample\\_mean\\\\\n",
       " <chr> & <dbl>\\\\\n",
       "\\hline\n",
       "\t Adelaida District & 96.00000\\\\\n",
       "\t Adelaide Hills    & 88.80000\\\\\n",
       "\t Adelaide Plains   & 85.00000\\\\\n",
       "\t Agrelo            & 85.91667\\\\\n",
       "\t Alexander Valley  & 88.31697\\\\\n",
       "\t Alghero           & 90.00000\\\\\n",
       "\\end{tabular}\n"
      ],
      "text/markdown": [
       "\n",
       "A tibble: 6 × 2\n",
       "\n",
       "| region_1 &lt;chr&gt; | sample_mean &lt;dbl&gt; |\n",
       "|---|---|\n",
       "| Adelaida District | 96.00000 |\n",
       "| Adelaide Hills    | 88.80000 |\n",
       "| Adelaide Plains   | 85.00000 |\n",
       "| Agrelo            | 85.91667 |\n",
       "| Alexander Valley  | 88.31697 |\n",
       "| Alghero           | 90.00000 |\n",
       "\n"
      ],
      "text/plain": [
       "  region_1          sample_mean\n",
       "1 Adelaida District 96.00000   \n",
       "2 Adelaide Hills    88.80000   \n",
       "3 Adelaide Plains   85.00000   \n",
       "4 Agrelo            85.91667   \n",
       "5 Alexander Valley  88.31697   \n",
       "6 Alghero           90.00000   "
      ]
     },
     "metadata": {},
     "output_type": "display_data"
    }
   ],
   "source": [
    "sampling_dist <- cs_wine %>%\n",
    "                group_by(region_1) %>%\n",
    "                summarize(sample_mean = mean(points))\n",
    "\n",
    "\"Table 2: Sample Means for Each Region\"\n",
    "head(sampling_dist)"
   ]
  },
  {
   "cell_type": "markdown",
   "metadata": {},
   "source": [
    "# ASK"
   ]
  },
  {
   "cell_type": "code",
   "execution_count": 10,
   "metadata": {},
   "outputs": [
    {
     "data": {
      "image/png": "[encoded data removed]",
      "text/plain": [
       "plot without title"
      ]
     },
     "metadata": {
      "image/png": {
       "height": 420,
       "width": 420
      }
     },
     "output_type": "display_data"
    }
   ],
   "source": [
    "sampling_dist_plot <- sampling_dist %>%\n",
    "                    ggplot() +\n",
    "                    geom_histogram(aes(x = sample_mean), binwidth = 1, colour = \"white\") +\n",
    "                    labs(title = \"Figure 1: Sampling Distribution of Sample Means\", \n",
    "                         subtitle = \"For all regions grapes are grown in\",\n",
    "                         x = \"Mean of Ratings\") +\n",
    "                    theme(text = element_text(size = 15))\n",
    "sampling_dist_plot"
   ]
  },
  {
   "cell_type": "code",
   "execution_count": 5,
   "metadata": {
    "scrolled": true
   },
   "outputs": [
    {
     "data": {
      "text/html": [
       "'Table 3: Number of Grapes Grown in Each Region'"
      ],
      "text/latex": [
       "'Table 3: Number of Grapes Grown in Each Region'"
      ],
      "text/markdown": [
       "'Table 3: Number of Grapes Grown in Each Region'"
      ],
      "text/plain": [
       "[1] \"Table 3: Number of Grapes Grown in Each Region\""
      ]
     },
     "metadata": {},
     "output_type": "display_data"
    },
    {
     "data": {
      "text/html": [
       "<table>\n",
       "<caption>A tibble: 6 × 2</caption>\n",
       "<thead>\n",
       "\t<tr><th scope=col>region_1</th><th scope=col>n</th></tr>\n",
       "\t<tr><th scope=col>&lt;chr&gt;</th><th scope=col>&lt;int&gt;</th></tr>\n",
       "</thead>\n",
       "<tbody>\n",
       "\t<tr><td>Napa Valley         </td><td>2513</td></tr>\n",
       "\t<tr><td>NA                  </td><td>1743</td></tr>\n",
       "\t<tr><td>Columbia Valley (WA)</td><td> 766</td></tr>\n",
       "\t<tr><td>Mendoza             </td><td> 560</td></tr>\n",
       "\t<tr><td>Alexander Valley    </td><td> 489</td></tr>\n",
       "\t<tr><td>Paso Robles         </td><td> 474</td></tr>\n",
       "</tbody>\n",
       "</table>\n"
      ],
      "text/latex": [
       "A tibble: 6 × 2\n",
       "\\begin{tabular}{ll}\n",
       " region\\_1 & n\\\\\n",
       " <chr> & <int>\\\\\n",
       "\\hline\n",
       "\t Napa Valley          & 2513\\\\\n",
       "\t NA                   & 1743\\\\\n",
       "\t Columbia Valley (WA) &  766\\\\\n",
       "\t Mendoza              &  560\\\\\n",
       "\t Alexander Valley     &  489\\\\\n",
       "\t Paso Robles          &  474\\\\\n",
       "\\end{tabular}\n"
      ],
      "text/markdown": [
       "\n",
       "A tibble: 6 × 2\n",
       "\n",
       "| region_1 &lt;chr&gt; | n &lt;int&gt; |\n",
       "|---|---|\n",
       "| Napa Valley          | 2513 |\n",
       "| NA                   | 1743 |\n",
       "| Columbia Valley (WA) |  766 |\n",
       "| Mendoza              |  560 |\n",
       "| Alexander Valley     |  489 |\n",
       "| Paso Robles          |  474 |\n",
       "\n"
      ],
      "text/plain": [
       "  region_1             n   \n",
       "1 Napa Valley          2513\n",
       "2 NA                   1743\n",
       "3 Columbia Valley (WA)  766\n",
       "4 Mendoza               560\n",
       "5 Alexander Valley      489\n",
       "6 Paso Robles           474"
      ]
     },
     "metadata": {},
     "output_type": "display_data"
    }
   ],
   "source": [
    "locations <- cs_wine %>%\n",
    "                group_by(region_1) %>%\n",
    "                tally(sort = TRUE)\n",
    "\n",
    "\"Table 3: Number of Grapes Grown in Each Region\"\n",
    "head(locations)"
   ]
  },
  {
   "cell_type": "markdown",
   "metadata": {},
   "source": [
    "From Table 3, we can see that the top 2 regions in which Cabernet Sauvignon grapes are grown in are Napa Valley and Columbia Valley. The following table will display the mean and standard deviation of each region's ratings, and the figures will display the distribution of ratings. \n",
    "\n",
    "Note that we will disregard NA because the data set has missing values."
   ]
  },
  {
   "cell_type": "code",
   "execution_count": 6,
   "metadata": {},
   "outputs": [
    {
     "name": "stderr",
     "output_type": "stream",
     "text": [
      "`summarise()` ungrouping output (override with `.groups` argument)\n",
      "\n"
     ]
    },
    {
     "data": {
      "text/html": [
       "'Table 4: Napa Valley and Columbia Valley Sample Mean and Standard Deviation'"
      ],
      "text/latex": [
       "'Table 4: Napa Valley and Columbia Valley Sample Mean and Standard Deviation'"
      ],
      "text/markdown": [
       "'Table 4: Napa Valley and Columbia Valley Sample Mean and Standard Deviation'"
      ],
      "text/plain": [
       "[1] \"Table 4: Napa Valley and Columbia Valley Sample Mean and Standard Deviation\""
      ]
     },
     "metadata": {},
     "output_type": "display_data"
    },
    {
     "data": {
      "text/html": [
       "<table>\n",
       "<caption>A tibble: 2 × 4</caption>\n",
       "<thead>\n",
       "\t<tr><th scope=col>region_1</th><th scope=col>sample_mean</th><th scope=col>sd</th><th scope=col>n</th></tr>\n",
       "\t<tr><th scope=col>&lt;chr&gt;</th><th scope=col>&lt;dbl&gt;</th><th scope=col>&lt;dbl&gt;</th><th scope=col>&lt;int&gt;</th></tr>\n",
       "</thead>\n",
       "<tbody>\n",
       "\t<tr><td>Columbia Valley (WA)</td><td>89.22585</td><td>3.116041</td><td> 766</td></tr>\n",
       "\t<tr><td>Napa Valley         </td><td>89.26661</td><td>3.486974</td><td>2513</td></tr>\n",
       "</tbody>\n",
       "</table>\n"
      ],
      "text/latex": [
       "A tibble: 2 × 4\n",
       "\\begin{tabular}{llll}\n",
       " region\\_1 & sample\\_mean & sd & n\\\\\n",
       " <chr> & <dbl> & <dbl> & <int>\\\\\n",
       "\\hline\n",
       "\t Columbia Valley (WA) & 89.22585 & 3.116041 &  766\\\\\n",
       "\t Napa Valley          & 89.26661 & 3.486974 & 2513\\\\\n",
       "\\end{tabular}\n"
      ],
      "text/markdown": [
       "\n",
       "A tibble: 2 × 4\n",
       "\n",
       "| region_1 &lt;chr&gt; | sample_mean &lt;dbl&gt; | sd &lt;dbl&gt; | n &lt;int&gt; |\n",
       "|---|---|---|---|\n",
       "| Columbia Valley (WA) | 89.22585 | 3.116041 |  766 |\n",
       "| Napa Valley          | 89.26661 | 3.486974 | 2513 |\n",
       "\n"
      ],
      "text/plain": [
       "  region_1             sample_mean sd       n   \n",
       "1 Columbia Valley (WA) 89.22585    3.116041  766\n",
       "2 Napa Valley          89.26661    3.486974 2513"
      ]
     },
     "metadata": {},
     "output_type": "display_data"
    }
   ],
   "source": [
    "summary <- cs_wine %>%\n",
    "            filter(region_1 == \"Napa Valley\" | region_1 == \"Columbia Valley (WA)\") %>%\n",
    "            group_by(region_1) %>%\n",
    "            summarize(sample_mean = mean(points),\n",
    "                      sd = sd(points),\n",
    "                      n = n())\n",
    "\n",
    "\"Table 4: Napa Valley and Columbia Valley Sample Mean and Standard Deviation\"\n",
    "summary"
   ]
  },
  {
   "cell_type": "code",
   "execution_count": 11,
   "metadata": {},
   "outputs": [
    {
     "data": {
      "image/png": "[encoded data removed]",
      "text/plain": [
       "plot without title"
      ]
     },
     "metadata": {
      "image/png": {
       "height": 420,
       "width": 420
      }
     },
     "output_type": "display_data"
    }
   ],
   "source": [
    "nv_plot <- cs_wine %>%\n",
    "        filter(region_1 == \"Napa Valley\") %>%\n",
    "        ggplot() +\n",
    "        geom_histogram(aes(x = points), colour = \"white\", bins = 20) +\n",
    "        labs(title = \"Figure 2: Distribution of Napa Valley Ratings\",\n",
    "             x = \"rating\") +\n",
    "        theme(text = element_text(size = 15))\n",
    "nv_plot"
   ]
  },
  {
   "cell_type": "code",
   "execution_count": 12,
   "metadata": {},
   "outputs": [
    {
     "data": {
      "image/png": "[encoded data removed]",
      "text/plain": [
       "plot without title"
      ]
     },
     "metadata": {
      "image/png": {
       "height": 420,
       "width": 420
      }
     },
     "output_type": "display_data"
    }
   ],
   "source": [
    "cv_plot <- cs_wine %>%\n",
    "        filter(region_1 == \"Columbia Valley (WA)\") %>%\n",
    "        ggplot() +\n",
    "        geom_histogram(aes(x = points), colour = \"white\", bins = 20) +\n",
    "        labs(title = \"Figure 3: Distribution of Columbia Valley Ratings\",\n",
    "             x = \"rating\") +\n",
    "        theme(text = element_text(size = 15))\n",
    "cv_plot"
   ]
  },
  {
   "cell_type": "markdown",
   "metadata": {},
   "source": [
    "# Methods: Plan"
   ]
  },
  {
   "cell_type": "markdown",
   "metadata": {},
   "source": [
    "This report takes advantage of the large data set we're using; and it remains large after filtering it to focus on one specific grape. The large sample size helps us know that there is enough data so that results are less likely to be biased towards one direction, and the large sample size helps with creating a narrower confidence interval, which we will later construct. \n",
    "\n",
    "Although the estimates in Table 4 and Figures 2 and 3 provide a numerical and pictorial understanding of the mean and standard deviation of each region, it is not enough to see whether or not the region affects the rating as they merely describe the spread of the data. \n",
    "\n",
    "To bridge the gap, we will conduct a hypothesis test to determine whether or not Cabernet Sauvignon grapes grown in the 2 regions, Napa Valley and Columbia Valley, affect the wine ratings. Namely, our null hypothesis will be $H_0 = \\mu_1 = \\mu_2$, where $\\mu_1$ is the mean of the points of the grape grown in Napa Valley and $\\mu_2$ is that of Columbia Valley. And our alternative hypothesis is $H_1 = \\mu_1 \\neq \\mu_2$. Additionally, we will be calculating 90% confidence intervals to compare our bootstrapped and CLT distributions. \n",
    "\n",
    "We expect to find out whether or not growing Cabernet Sauvignon grapes in different regions will affect its wine ratings; and if it does affect the rating, how much it affects it.\n",
    "\n",
    "The impacts of the findings could allow companies to make decisions on where to grow their grapes for wine, as well as allowing consumers to better understand how growing location affects the flavour profile of wines.\n",
    "\n",
    "Future questions could include looking into how wineries can increase their profit by adjusting their crops to fit and cater to the demand. "
   ]
  },
  {
   "cell_type": "markdown",
   "metadata": {},
   "source": [
    "# References"
   ]
  },
  {
   "cell_type": "markdown",
   "metadata": {},
   "source": [
    "Muñoz, Flavio, et al. “Phenolic Characterization of Cabernet Sauvignon Wines From Different Geographical   Indications of Mendoza, Argentina: Effects of Plant Material and Environment.” Frontiers in Sustainable Food Systems, vol. 5, 2021, doi:10.3389/fsufs.2021.700642. Accessed 1 Aug. 2021.\n",
    "\n",
    "Lock, Peter, et al., Wineries and wine quality: The influence of location and archetype in the Hunter Valley region in Australia, Wine Economics and Policy, vol. 8, issue 2, 2019, 180-190, doi.org/10.1016/j.wep.2019.10.002. Accessed 1 Aug. 2021.\n",
    "     \n",
    "https://www.kaggle.com/zynicide/wine-reviews"
   ]
  }
 ],
 "metadata": {
  "kernelspec": {
   "display_name": "R",
   "language": "R",
   "name": "ir"
  },
  "language_info": {
   "codemirror_mode": "r",
   "file_extension": ".r",
   "mimetype": "text/x-r-source",
   "name": "R",
   "pygments_lexer": "r",
   "version": "4.0.0"
  }
 },
 "nbformat": 4,
 "nbformat_minor": 5
}
