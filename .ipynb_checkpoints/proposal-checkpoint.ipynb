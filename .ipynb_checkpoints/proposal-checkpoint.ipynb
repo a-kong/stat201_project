{
 "cells": [
  {
   "cell_type": "markdown",
   "id": "9dbe67a6",
   "metadata": {},
   "source": [
    "# Do Different Types of Grapes Affect Wine Ratings in the USA?"
   ]
  },
  {
   "cell_type": "markdown",
   "id": "81cf58b0",
   "metadata": {},
   "source": [
    "# Introduction"
   ]
  },
  {
   "cell_type": "markdown",
   "id": "d2d43c47",
   "metadata": {},
   "source": [
    "---\n",
    "Begin by providing some relevant background information on the topic so that someone unfamiliar with it will be prepared to understand the rest of your proposal.\n",
    "\n",
    "Clearly state the question you will try to answer with your project. Your question should involve one random variable of interest, spread across two or more categories that are interesting to compare. For example, you could consider the annual maxima river flow at two different locations along a river, or perhaps gender diversity at different universities. Of the response variable, identify one location parameter (mean, median, quantile, etc.) and one scale parameter (standard deviation, inter-quartile range, etc.) that would be useful in answering your question. Justify your choices.\n",
    "\n",
    "Identify and describe the dataset that will be used to answer the question. Remember, this dataset is allowed to contain more variables than you need – feel free to drop them!\n",
    "\n",
    "Also, be sure to frame your question/objectives in terms of what is already known in the literature. Be sure to include at least two scientific publications that can help frame your study (you will need to include these in the References section).\n",
    "\n",
    "---"
   ]
  },
  {
   "cell_type": "markdown",
   "id": "36d494ff",
   "metadata": {},
   "source": [
    "In order to appreciate wine, it's essential to understand the characteristics different grapes offer and how those characteristics should be expressed in wines. Even when grown in different appellations and vinified using different techniques, a varietal wine always displays certain qualities, which are inherent in the grape's personality. \n",
    "\n",
    "For example, Cabernet Sauvignon and Pinot Noir are all red grapes, but as wines their personalities are quite different. Cabernet Sauvignon is one of the world’s most widely recognized red wine grape varieties. The classic profile of Cabernet Sauvignon tends to be full-bodied wines with high tannins and noticeable acidity that contributes to the wine's aging potential. However, depending on the climate and geographical appellation in which the grape is grown in, different flavours become more pronounced than others. On the other hand, Pinot Noir is a medium-bodied, low-tannin wine that can often go through phases of uneven and unpredictable aging, which can contribute to its flavour complexity.\n",
    "\n",
    "Understanding a grape’s personality is fundamental, and knowing if a grape’s personality can affect sommeliers’ blind tasting is the essence of fine-wine appreciation.\n",
    "\n",
    "In Europe, the finest wines are labelled by geographic appellation. However, in the United States, most wines are labeled by their varietal names; because of the ongoing process of sorting which grapes grow best in certain appellations, and Americans were first introduced to fine wine by varietal name. \n",
    "\n",
    "This leads to the question: will the variety of grape in the USA affect wine ratings? We’ll focus on two types of grape---Cabernet Sauvignon and Pinot Noir from the data scraped from WineEnthusiast during the week of June 15th, 2017 to study the influence of grape type towards wine appreciation."
   ]
  },
  {
   "cell_type": "markdown",
   "id": "ffe4ddb9",
   "metadata": {},
   "source": [
    "# Preliminary Results"
   ]
  },
  {
   "cell_type": "markdown",
   "id": "1d770700",
   "metadata": {},
   "source": [
    "    Demonstrate that the dataset can be read from the web into R.\n",
    "\n",
    "    Clean and wrangle your data into a tidy format.\n",
    "\n",
    "    Plot the relevant raw data, tailoring your plot in a way that\n",
    "    addresses your question.\n",
    "\n",
    "    Compute estimates of the parameter you identified across your groups. Present this in a table. If relevant, include these estimates in your plot.\n",
    "\n",
    "Be sure to not print output that takes up a lot of screen space."
   ]
  },
  {
   "cell_type": "markdown",
   "id": "e6f209d9",
   "metadata": {},
   "source": [
    "## Load and the tidy data set."
   ]
  },
  {
   "cell_type": "code",
   "execution_count": null,
   "id": "91e7fb99",
   "metadata": {},
   "outputs": [],
   "source": [
    "library(tidyverse)\n",
    "library(dplyr)\n",
    "library(digest)\n",
    "library(infer)\n",
    "library(repr)"
   ]
  },
  {
   "cell_type": "code",
   "execution_count": null,
   "id": "a34f1efc",
   "metadata": {
    "scrolled": true
   },
   "outputs": [],
   "source": [
    "wine <- read_csv(\"winemag-data_first150k.csv\") %>%\n",
    "        select(country, points, variety) %>%\n",
    "        filter(country == \"US\")\n",
    "head(wine)"
   ]
  },
  {
   "cell_type": "code",
   "execution_count": 14,
   "id": "138af624",
   "metadata": {
    "scrolled": true
   },
   "outputs": [
    {
     "data": {
      "text/html": [
       "<table>\n",
       "<thead><tr><th scope=col>variety</th><th scope=col>mean</th></tr></thead>\n",
       "<tbody>\n",
       "\t<tr><td>Aglianico        </td><td>85.36364         </td></tr>\n",
       "\t<tr><td>Albariño         </td><td>88.43820         </td></tr>\n",
       "\t<tr><td>Aleatico         </td><td>80.00000         </td></tr>\n",
       "\t<tr><td>Alicante Bouschet</td><td>87.42857         </td></tr>\n",
       "\t<tr><td>Aligoté          </td><td>85.90000         </td></tr>\n",
       "\t<tr><td>Alvarelhão       </td><td>84.00000         </td></tr>\n",
       "</tbody>\n",
       "</table>\n"
      ],
      "text/latex": [
       "\\begin{tabular}{r|ll}\n",
       " variety & mean\\\\\n",
       "\\hline\n",
       "\t Aglianico         & 85.36364         \\\\\n",
       "\t Albariño          & 88.43820         \\\\\n",
       "\t Aleatico          & 80.00000         \\\\\n",
       "\t Alicante Bouschet & 87.42857         \\\\\n",
       "\t Aligoté           & 85.90000         \\\\\n",
       "\t Alvarelhão        & 84.00000         \\\\\n",
       "\\end{tabular}\n"
      ],
      "text/markdown": [
       "\n",
       "| variety | mean |\n",
       "|---|---|\n",
       "| Aglianico         | 85.36364          |\n",
       "| Albariño          | 88.43820          |\n",
       "| Aleatico          | 80.00000          |\n",
       "| Alicante Bouschet | 87.42857          |\n",
       "| Aligoté           | 85.90000          |\n",
       "| Alvarelhão        | 84.00000          |\n",
       "\n"
      ],
      "text/plain": [
       "  variety           mean    \n",
       "1 Aglianico         85.36364\n",
       "2 Albariño          88.43820\n",
       "3 Aleatico          80.00000\n",
       "4 Alicante Bouschet 87.42857\n",
       "5 Aligoté           85.90000\n",
       "6 Alvarelhão        84.00000"
      ]
     },
     "metadata": {},
     "output_type": "display_data"
    }
   ],
   "source": [
    "sampling_dist <- wine %>%\n",
    "                group_by(variety) %>%\n",
    "                summarize(mean = mean(points))\n",
    "head(sampling_dist)"
   ]
  },
  {
   "cell_type": "code",
   "execution_count": 51,
   "id": "838b7793",
   "metadata": {},
   "outputs": [
    {
     "data": {
      "image/png": "[encoded data removed]",
      "text/plain": [
       "plot without title"
      ]
     },
     "metadata": {},
     "output_type": "display_data"
    }
   ],
   "source": [
    "options(repr.plot.width = 5, repr.plot.height = 5)\n",
    "sampling_dist_plot <- sampling_dist %>%\n",
    "                    ggplot() +\n",
    "                    geom_histogram(aes(x = mean), binwidth = 1, colour = \"white\") +\n",
    "                    labs(title = \"Sampling Distribution of Sample Means\", subtitle = \"Wines in the USA\",\n",
    "                         x = \"Mean of Wine Ratings\")\n",
    "sampling_dist_plot"
   ]
  },
  {
   "cell_type": "code",
   "execution_count": 20,
   "id": "84996365",
   "metadata": {
    "scrolled": true
   },
   "outputs": [
    {
     "data": {
      "text/html": [
       "<table>\n",
       "<thead><tr><th scope=col>variety</th><th scope=col>n</th></tr></thead>\n",
       "<tbody>\n",
       "\t<tr><td>Pinot Noir              </td><td>10340                   </td></tr>\n",
       "\t<tr><td>Cabernet Sauvignon      </td><td> 9178                   </td></tr>\n",
       "\t<tr><td>Chardonnay              </td><td> 8127                   </td></tr>\n",
       "\t<tr><td>Syrah                   </td><td> 4274                   </td></tr>\n",
       "\t<tr><td>Zinfandel               </td><td> 3789                   </td></tr>\n",
       "\t<tr><td>Merlot                  </td><td> 3630                   </td></tr>\n",
       "\t<tr><td>Red Blend               </td><td> 3352                   </td></tr>\n",
       "\t<tr><td>Sauvignon Blanc         </td><td> 2586                   </td></tr>\n",
       "\t<tr><td>Bordeaux-style Red Blend</td><td> 1832                   </td></tr>\n",
       "\t<tr><td>Riesling                </td><td> 1652                   </td></tr>\n",
       "\t<tr><td>Cabernet Franc          </td><td> 1011                   </td></tr>\n",
       "\t<tr><td>Viognier                </td><td>  956                   </td></tr>\n",
       "\t<tr><td>Petite Sirah            </td><td>  878                   </td></tr>\n",
       "\t<tr><td>Pinot Gris              </td><td>  852                   </td></tr>\n",
       "\t<tr><td>Rosé                    </td><td>  696                   </td></tr>\n",
       "\t<tr><td>White Blend             </td><td>  665                   </td></tr>\n",
       "\t<tr><td>Sparkling Blend         </td><td>  647                   </td></tr>\n",
       "\t<tr><td>Sangiovese              </td><td>  606                   </td></tr>\n",
       "\t<tr><td>Rhône-style Red Blend   </td><td>  566                   </td></tr>\n",
       "\t<tr><td>Pinot Grigio            </td><td>  470                   </td></tr>\n",
       "\t<tr><td>Gewürztraminer          </td><td>  456                   </td></tr>\n",
       "\t<tr><td>Malbec                  </td><td>  415                   </td></tr>\n",
       "\t<tr><td>Grenache                </td><td>  409                   </td></tr>\n",
       "\t<tr><td>Tempranillo             </td><td>  331                   </td></tr>\n",
       "\t<tr><td>Meritage                </td><td>  304                   </td></tr>\n",
       "\t<tr><td>Barbera                 </td><td>  255                   </td></tr>\n",
       "\t<tr><td>Rhône-style White Blend </td><td>  228                   </td></tr>\n",
       "\t<tr><td>Pinot Blanc             </td><td>  224                   </td></tr>\n",
       "\t<tr><td>Roussanne               </td><td>  165                   </td></tr>\n",
       "\t<tr><td>Mourvèdre               </td><td>  160                   </td></tr>\n",
       "\t<tr><td>...</td><td>...</td></tr>\n",
       "\t<tr><td>Malbec-Merlot               </td><td>1                           </td></tr>\n",
       "\t<tr><td>Malbec-Syrah                </td><td>1                           </td></tr>\n",
       "\t<tr><td>Malbec-Tannat               </td><td>1                           </td></tr>\n",
       "\t<tr><td>Merlot-Malbec               </td><td>1                           </td></tr>\n",
       "\t<tr><td>Merlot-Petite Verdot        </td><td>1                           </td></tr>\n",
       "\t<tr><td>Muscat d'Alexandrie         </td><td>1                           </td></tr>\n",
       "\t<tr><td>Muskat Ottonel              </td><td>1                           </td></tr>\n",
       "\t<tr><td>Negroamaro                  </td><td>1                           </td></tr>\n",
       "\t<tr><td>Picpoul                     </td><td>1                           </td></tr>\n",
       "\t<tr><td>Pinot Auxerrois             </td><td>1                           </td></tr>\n",
       "\t<tr><td>Pinot Blanc-Chardonnay      </td><td>1                           </td></tr>\n",
       "\t<tr><td>Pinot Grigio-Chardonnay     </td><td>1                           </td></tr>\n",
       "\t<tr><td>Pinot Grigio-Sauvignon Blanc</td><td>1                           </td></tr>\n",
       "\t<tr><td>Pinot Noir-Syrah            </td><td>1                           </td></tr>\n",
       "\t<tr><td>Pinot-Chardonnay            </td><td>1                           </td></tr>\n",
       "\t<tr><td>Refosco                     </td><td>1                           </td></tr>\n",
       "\t<tr><td>Rosato                      </td><td>1                           </td></tr>\n",
       "\t<tr><td>Sangiovese Cabernet         </td><td>1                           </td></tr>\n",
       "\t<tr><td>Sangiovese Grosso           </td><td>1                           </td></tr>\n",
       "\t<tr><td>Sauvignon Musqué            </td><td>1                           </td></tr>\n",
       "\t<tr><td>Sherry                      </td><td>1                           </td></tr>\n",
       "\t<tr><td>St. Vincent                 </td><td>1                           </td></tr>\n",
       "\t<tr><td>Syrah-Merlot                </td><td>1                           </td></tr>\n",
       "\t<tr><td>Tempranillo-Malbec          </td><td>1                           </td></tr>\n",
       "\t<tr><td>Trousseau Gris              </td><td>1                           </td></tr>\n",
       "\t<tr><td>Ugni Blanc                  </td><td>1                           </td></tr>\n",
       "\t<tr><td>Verdejo                     </td><td>1                           </td></tr>\n",
       "\t<tr><td>Viognier-Chardonnay         </td><td>1                           </td></tr>\n",
       "\t<tr><td>Viognier-Grenache Blanc     </td><td>1                           </td></tr>\n",
       "\t<tr><td>Viognier-Valdiguié          </td><td>1                           </td></tr>\n",
       "</tbody>\n",
       "</table>\n"
      ],
      "text/latex": [
       "\\begin{tabular}{r|ll}\n",
       " variety & n\\\\\n",
       "\\hline\n",
       "\t Pinot Noir               & 10340                   \\\\\n",
       "\t Cabernet Sauvignon       &  9178                   \\\\\n",
       "\t Chardonnay               &  8127                   \\\\\n",
       "\t Syrah                    &  4274                   \\\\\n",
       "\t Zinfandel                &  3789                   \\\\\n",
       "\t Merlot                   &  3630                   \\\\\n",
       "\t Red Blend                &  3352                   \\\\\n",
       "\t Sauvignon Blanc          &  2586                   \\\\\n",
       "\t Bordeaux-style Red Blend &  1832                   \\\\\n",
       "\t Riesling                 &  1652                   \\\\\n",
       "\t Cabernet Franc           &  1011                   \\\\\n",
       "\t Viognier                 &   956                   \\\\\n",
       "\t Petite Sirah             &   878                   \\\\\n",
       "\t Pinot Gris               &   852                   \\\\\n",
       "\t Rosé                     &   696                   \\\\\n",
       "\t White Blend              &   665                   \\\\\n",
       "\t Sparkling Blend          &   647                   \\\\\n",
       "\t Sangiovese               &   606                   \\\\\n",
       "\t Rhône-style Red Blend    &   566                   \\\\\n",
       "\t Pinot Grigio             &   470                   \\\\\n",
       "\t Gewürztraminer           &   456                   \\\\\n",
       "\t Malbec                   &   415                   \\\\\n",
       "\t Grenache                 &   409                   \\\\\n",
       "\t Tempranillo              &   331                   \\\\\n",
       "\t Meritage                 &   304                   \\\\\n",
       "\t Barbera                  &   255                   \\\\\n",
       "\t Rhône-style White Blend  &   228                   \\\\\n",
       "\t Pinot Blanc              &   224                   \\\\\n",
       "\t Roussanne                &   165                   \\\\\n",
       "\t Mourvèdre                &   160                   \\\\\n",
       "\t ... & ...\\\\\n",
       "\t Malbec-Merlot                & 1                           \\\\\n",
       "\t Malbec-Syrah                 & 1                           \\\\\n",
       "\t Malbec-Tannat                & 1                           \\\\\n",
       "\t Merlot-Malbec                & 1                           \\\\\n",
       "\t Merlot-Petite Verdot         & 1                           \\\\\n",
       "\t Muscat d'Alexandrie          & 1                           \\\\\n",
       "\t Muskat Ottonel               & 1                           \\\\\n",
       "\t Negroamaro                   & 1                           \\\\\n",
       "\t Picpoul                      & 1                           \\\\\n",
       "\t Pinot Auxerrois              & 1                           \\\\\n",
       "\t Pinot Blanc-Chardonnay       & 1                           \\\\\n",
       "\t Pinot Grigio-Chardonnay      & 1                           \\\\\n",
       "\t Pinot Grigio-Sauvignon Blanc & 1                           \\\\\n",
       "\t Pinot Noir-Syrah             & 1                           \\\\\n",
       "\t Pinot-Chardonnay             & 1                           \\\\\n",
       "\t Refosco                      & 1                           \\\\\n",
       "\t Rosato                       & 1                           \\\\\n",
       "\t Sangiovese Cabernet          & 1                           \\\\\n",
       "\t Sangiovese Grosso            & 1                           \\\\\n",
       "\t Sauvignon Musqué             & 1                           \\\\\n",
       "\t Sherry                       & 1                           \\\\\n",
       "\t St. Vincent                  & 1                           \\\\\n",
       "\t Syrah-Merlot                 & 1                           \\\\\n",
       "\t Tempranillo-Malbec           & 1                           \\\\\n",
       "\t Trousseau Gris               & 1                           \\\\\n",
       "\t Ugni Blanc                   & 1                           \\\\\n",
       "\t Verdejo                      & 1                           \\\\\n",
       "\t Viognier-Chardonnay          & 1                           \\\\\n",
       "\t Viognier-Grenache Blanc      & 1                           \\\\\n",
       "\t Viognier-Valdiguié           & 1                           \\\\\n",
       "\\end{tabular}\n"
      ],
      "text/markdown": [
       "\n",
       "| variety | n |\n",
       "|---|---|\n",
       "| Pinot Noir               | 10340                    |\n",
       "| Cabernet Sauvignon       |  9178                    |\n",
       "| Chardonnay               |  8127                    |\n",
       "| Syrah                    |  4274                    |\n",
       "| Zinfandel                |  3789                    |\n",
       "| Merlot                   |  3630                    |\n",
       "| Red Blend                |  3352                    |\n",
       "| Sauvignon Blanc          |  2586                    |\n",
       "| Bordeaux-style Red Blend |  1832                    |\n",
       "| Riesling                 |  1652                    |\n",
       "| Cabernet Franc           |  1011                    |\n",
       "| Viognier                 |   956                    |\n",
       "| Petite Sirah             |   878                    |\n",
       "| Pinot Gris               |   852                    |\n",
       "| Rosé                     |   696                    |\n",
       "| White Blend              |   665                    |\n",
       "| Sparkling Blend          |   647                    |\n",
       "| Sangiovese               |   606                    |\n",
       "| Rhône-style Red Blend    |   566                    |\n",
       "| Pinot Grigio             |   470                    |\n",
       "| Gewürztraminer           |   456                    |\n",
       "| Malbec                   |   415                    |\n",
       "| Grenache                 |   409                    |\n",
       "| Tempranillo              |   331                    |\n",
       "| Meritage                 |   304                    |\n",
       "| Barbera                  |   255                    |\n",
       "| Rhône-style White Blend  |   228                    |\n",
       "| Pinot Blanc              |   224                    |\n",
       "| Roussanne                |   165                    |\n",
       "| Mourvèdre                |   160                    |\n",
       "| ... | ... |\n",
       "| Malbec-Merlot                | 1                            |\n",
       "| Malbec-Syrah                 | 1                            |\n",
       "| Malbec-Tannat                | 1                            |\n",
       "| Merlot-Malbec                | 1                            |\n",
       "| Merlot-Petite Verdot         | 1                            |\n",
       "| Muscat d'Alexandrie          | 1                            |\n",
       "| Muskat Ottonel               | 1                            |\n",
       "| Negroamaro                   | 1                            |\n",
       "| Picpoul                      | 1                            |\n",
       "| Pinot Auxerrois              | 1                            |\n",
       "| Pinot Blanc-Chardonnay       | 1                            |\n",
       "| Pinot Grigio-Chardonnay      | 1                            |\n",
       "| Pinot Grigio-Sauvignon Blanc | 1                            |\n",
       "| Pinot Noir-Syrah             | 1                            |\n",
       "| Pinot-Chardonnay             | 1                            |\n",
       "| Refosco                      | 1                            |\n",
       "| Rosato                       | 1                            |\n",
       "| Sangiovese Cabernet          | 1                            |\n",
       "| Sangiovese Grosso            | 1                            |\n",
       "| Sauvignon Musqué             | 1                            |\n",
       "| Sherry                       | 1                            |\n",
       "| St. Vincent                  | 1                            |\n",
       "| Syrah-Merlot                 | 1                            |\n",
       "| Tempranillo-Malbec           | 1                            |\n",
       "| Trousseau Gris               | 1                            |\n",
       "| Ugni Blanc                   | 1                            |\n",
       "| Verdejo                      | 1                            |\n",
       "| Viognier-Chardonnay          | 1                            |\n",
       "| Viognier-Grenache Blanc      | 1                            |\n",
       "| Viognier-Valdiguié           | 1                            |\n",
       "\n"
      ],
      "text/plain": [
       "    variety                      n    \n",
       "1   Pinot Noir                   10340\n",
       "2   Cabernet Sauvignon            9178\n",
       "3   Chardonnay                    8127\n",
       "4   Syrah                         4274\n",
       "5   Zinfandel                     3789\n",
       "6   Merlot                        3630\n",
       "7   Red Blend                     3352\n",
       "8   Sauvignon Blanc               2586\n",
       "9   Bordeaux-style Red Blend      1832\n",
       "10  Riesling                      1652\n",
       "11  Cabernet Franc                1011\n",
       "12  Viognier                       956\n",
       "13  Petite Sirah                   878\n",
       "14  Pinot Gris                     852\n",
       "15  Rosé                           696\n",
       "16  White Blend                    665\n",
       "17  Sparkling Blend                647\n",
       "18  Sangiovese                     606\n",
       "19  Rhône-style Red Blend          566\n",
       "20  Pinot Grigio                   470\n",
       "21  Gewürztraminer                 456\n",
       "22  Malbec                         415\n",
       "23  Grenache                       409\n",
       "24  Tempranillo                    331\n",
       "25  Meritage                       304\n",
       "26  Barbera                        255\n",
       "27  Rhône-style White Blend        228\n",
       "28  Pinot Blanc                    224\n",
       "29  Roussanne                      165\n",
       "30  Mourvèdre                      160\n",
       "... ...                          ...  \n",
       "189 Malbec-Merlot                1    \n",
       "190 Malbec-Syrah                 1    \n",
       "191 Malbec-Tannat                1    \n",
       "192 Merlot-Malbec                1    \n",
       "193 Merlot-Petite Verdot         1    \n",
       "194 Muscat d'Alexandrie          1    \n",
       "195 Muskat Ottonel               1    \n",
       "196 Negroamaro                   1    \n",
       "197 Picpoul                      1    \n",
       "198 Pinot Auxerrois              1    \n",
       "199 Pinot Blanc-Chardonnay       1    \n",
       "200 Pinot Grigio-Chardonnay      1    \n",
       "201 Pinot Grigio-Sauvignon Blanc 1    \n",
       "202 Pinot Noir-Syrah             1    \n",
       "203 Pinot-Chardonnay             1    \n",
       "204 Refosco                      1    \n",
       "205 Rosato                       1    \n",
       "206 Sangiovese Cabernet          1    \n",
       "207 Sangiovese Grosso            1    \n",
       "208 Sauvignon Musqué             1    \n",
       "209 Sherry                       1    \n",
       "210 St. Vincent                  1    \n",
       "211 Syrah-Merlot                 1    \n",
       "212 Tempranillo-Malbec           1    \n",
       "213 Trousseau Gris               1    \n",
       "214 Ugni Blanc                   1    \n",
       "215 Verdejo                      1    \n",
       "216 Viognier-Chardonnay          1    \n",
       "217 Viognier-Grenache Blanc      1    \n",
       "218 Viognier-Valdiguié           1    "
      ]
     },
     "metadata": {},
     "output_type": "display_data"
    }
   ],
   "source": [
    "grape_selection <- wine %>%\n",
    "                group_by(variety) %>%\n",
    "                tally(sort = TRUE)\n",
    "head(grape_selection)"
   ]
  },
  {
   "cell_type": "code",
   "execution_count": 30,
   "id": "a4f5d5f1",
   "metadata": {},
   "outputs": [
    {
     "data": {
      "text/html": [
       "<table>\n",
       "<thead><tr><th scope=col>noir_mean</th><th scope=col>noir_sd</th></tr></thead>\n",
       "<tbody>\n",
       "\t<tr><td>88.87727</td><td>3.354787</td></tr>\n",
       "</tbody>\n",
       "</table>\n"
      ],
      "text/latex": [
       "\\begin{tabular}{r|ll}\n",
       " noir\\_mean & noir\\_sd\\\\\n",
       "\\hline\n",
       "\t 88.87727 & 3.354787\\\\\n",
       "\\end{tabular}\n"
      ],
      "text/markdown": [
       "\n",
       "| noir_mean | noir_sd |\n",
       "|---|---|\n",
       "| 88.87727 | 3.354787 |\n",
       "\n"
      ],
      "text/plain": [
       "  noir_mean noir_sd \n",
       "1 88.87727  3.354787"
      ]
     },
     "metadata": {},
     "output_type": "display_data"
    },
    {
     "data": {
      "text/html": [
       "<table>\n",
       "<thead><tr><th scope=col>cab_mean</th><th scope=col>cab_sd</th></tr></thead>\n",
       "<tbody>\n",
       "\t<tr><td>88.55579</td><td>3.66346 </td></tr>\n",
       "</tbody>\n",
       "</table>\n"
      ],
      "text/latex": [
       "\\begin{tabular}{r|ll}\n",
       " cab\\_mean & cab\\_sd\\\\\n",
       "\\hline\n",
       "\t 88.55579 & 3.66346 \\\\\n",
       "\\end{tabular}\n"
      ],
      "text/markdown": [
       "\n",
       "| cab_mean | cab_sd |\n",
       "|---|---|\n",
       "| 88.55579 | 3.66346  |\n",
       "\n"
      ],
      "text/plain": [
       "  cab_mean cab_sd \n",
       "1 88.55579 3.66346"
      ]
     },
     "metadata": {},
     "output_type": "display_data"
    }
   ],
   "source": [
    "noir_summary <- wine %>%\n",
    "            filter(variety == \"Pinot Noir\") %>%\n",
    "            summarize(noir_mean = mean(points),\n",
    "                     noir_sd = sd(points))\n",
    "\n",
    "cabernet_summary <- wine %>%\n",
    "            filter(variety == \"Cabernet Sauvignon\") %>%\n",
    "            summarize(cab_mean = mean(points),\n",
    "                     cab_sd = sd(points))\n",
    "\n",
    "noir_summary\n",
    "cabernet_summary"
   ]
  },
  {
   "cell_type": "code",
   "execution_count": 52,
   "id": "51308b71",
   "metadata": {},
   "outputs": [
    {
     "data": {
      "image/png": "[encoded data removed]",
      "text/plain": [
       "plot without title"
      ]
     },
     "metadata": {},
     "output_type": "display_data"
    }
   ],
   "source": [
    "noir <- wine %>%\n",
    "        filter(variety == \"Pinot Noir\") %>%\n",
    "        ggplot() +\n",
    "        geom_histogram(aes(x = points), colour = \"white\", binwidth = 1)\n",
    "noir"
   ]
  },
  {
   "cell_type": "code",
   "execution_count": 53,
   "id": "0aa1498c",
   "metadata": {},
   "outputs": [
    {
     "data": {
      "image/png": "[encoded data removed]",
      "text/plain": [
       "plot without title"
      ]
     },
     "metadata": {},
     "output_type": "display_data"
    }
   ],
   "source": [
    "cabernet <- wine %>%\n",
    "        filter(variety == \"Cabernet Sauvignon\") %>%\n",
    "        ggplot() +\n",
    "        geom_histogram(aes(x = points), colour = \"white\", binwidth = 1)\n",
    "cabernet"
   ]
  },
  {
   "cell_type": "markdown",
   "id": "a1706e2c",
   "metadata": {},
   "source": [
    "# Methods: Plan"
   ]
  },
  {
   "cell_type": "markdown",
   "id": "d2e8a02c",
   "metadata": {},
   "source": [
    "The previous sections will carry over to your final report (you’ll be allowed to improve them based on feedback you get). Begin this Methods section with a brief description of “the good things” about this report – specifically, in what ways is this report trustworthy?\n",
    "\n",
    "Continue by explaining why the plot(s) and estimates that you produced are not enough to give to a stakeholder, and what you should provide in addition to address this gap. Make sure your plans include at least one hypothesis test and one confidence interval, with at least one of these being calculated using both bootstrapping and asymptotics for comparison.\n",
    "\n",
    "Finish this section by reflecting on how your final report might play out:\n",
    "\n",
    "    What do you expect to find?\n",
    "\n",
    "    What impact could such findings have?\n",
    "\n",
    "    What future questions could this lead to?\n"
   ]
  },
  {
   "cell_type": "markdown",
   "id": "1be5dfbf",
   "metadata": {},
   "source": []
  },
  {
   "cell_type": "markdown",
   "id": "10a2fb74",
   "metadata": {},
   "source": [
    "# References"
   ]
  },
  {
   "cell_type": "markdown",
   "id": "936af408",
   "metadata": {},
   "source": [
    "At least two citations of literature relevant to the project. The citation format is your choice – just be consistent. Make sure to cite the source of your data as well."
   ]
  },
  {
   "cell_type": "markdown",
   "id": "cb3a26ff",
   "metadata": {},
   "source": []
  }
 ],
 "metadata": {
  "kernelspec": {
   "display_name": "R",
   "language": "R",
   "name": "ir"
  },
  "language_info": {
   "codemirror_mode": "r",
   "file_extension": ".r",
   "mimetype": "text/x-r-source",
   "name": "R",
   "pygments_lexer": "r",
   "version": "4.1.0"
  }
 },
 "nbformat": 4,
 "nbformat_minor": 5
}
